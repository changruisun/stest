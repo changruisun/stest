{
 "cells": [
  {
   "cell_type": "code",
   "execution_count": 1,
   "metadata": {},
   "outputs": [],
   "source": [
    "import pandas as pd\n",
    "import numpy as np\n",
    "import random \n",
    "from random import sample\n",
    "from itertools import accumulate\n",
    "from pandas.tseries.offsets import DateOffset"
   ]
  },
  {
   "cell_type": "code",
   "execution_count": 24,
   "metadata": {},
   "outputs": [],
   "source": [
    "# N个零件,共5种类型\n",
    "Job_num = 5\n",
    "Ma_num = 3\n",
    "job = [ np.random.randint(5,10)for i in range(Job_num)]\n",
    "# 每种零件的加工时间\n",
    "W_t = [ round(10*np.random.random(),0) for i in range(Job_num)]\n",
    "# 每种零件的交付时间\n",
    "D_t = [ t*10 for t in W_t]\n",
    "# 每种零件对应的设备machine\n",
    "machine = [ list(np.random.randint(2, size=Job_num)) for m in range(Ma_num)]\n",
    "# 零件切换时间矩阵\n",
    "Change_t = [[ np.random.randint(3) for i in range(Job_num)] for i in range(Job_num)]\n",
    "# 加工效率最大化 ： 任务完工时间耗时 最小"
   ]
  },
  {
   "cell_type": "code",
   "execution_count": 3,
   "metadata": {},
   "outputs": [],
   "source": [
    "def get_init(Job_num,job):\n",
    "    init_x = sum([ [i]*job[i] for i in range(Job_num)],list())\n",
    "#     print(init_x)\n",
    "    random.shuffle(init_x)\n",
    "#     print(init_x)\n",
    "    return init_x"
   ]
  },
  {
   "cell_type": "code",
   "execution_count": 10,
   "metadata": {},
   "outputs": [],
   "source": [
    "def get_fit(x):\n",
    "    sol = [[] for i in range(Ma_num)]\n",
    "    for id_,job in enumerate(x):\n",
    "        for m in range(3):\n",
    "            if id_%3 == m:\n",
    "                sol[m].append(job)\n",
    "#     print(sol)\n",
    "    duration = [[] for i in range(Ma_num)]\n",
    "    for m in range(Ma_num):\n",
    "        for s in sol[m]:\n",
    "            if machine[m][s] ==0:\n",
    "                dt = 100\n",
    "                duration[m].append(dt)\n",
    "            else:\n",
    "                duration[m].append(W_t[s])\n",
    "    #get_duration\n",
    "    fit = max([ list(accumulate(d))for d in duration][-1])\n",
    "    return fit,duration,sol"
   ]
  },
  {
   "cell_type": "code",
   "execution_count": 20,
   "metadata": {},
   "outputs": [],
   "source": [
    "import plotly.figure_factory as ff\n",
    "\n",
    "colors = dict(Job_0 = 'rgb(46, 137, 205)',\n",
    "              Job_1 = 'rgb(114, 44, 121)',\n",
    "              Job_2 = 'rgb(198, 47, 105)',\n",
    "              Job_3 = 'rgb(58, 149, 136)',\n",
    "              Job_4 = 'rgb(107, 127, 135)')"
   ]
  },
  {
   "cell_type": "code",
   "execution_count": 30,
   "metadata": {},
   "outputs": [],
   "source": [
    "def get_change(x):\n",
    "    i,j = sample(range(len(x)),2)\n",
    "    while x[i]==x[j]:\n",
    "        i,j = sample(range(len(x)),2)\n",
    "    x[i], x[j] = x[j], x[i]\n",
    "    return x\n",
    "\n",
    "# 局部搜索\n",
    "def search(Job_num,job,max_no_improv=30):\n",
    "    best = {}\n",
    "    best['vector'] = get_init(Job_num,job)\n",
    "    print(best['vector'])\n",
    "    best['cost'] = get_fit(best['vector'])[0]\n",
    "    iter_ = 0\n",
    "    while iter_ < max_no_improv:\n",
    "        new_x = get_change(best['vector'])\n",
    "        if get_fit(new_x)[0] < best['cost']:\n",
    "            best['vector'] = new_x\n",
    "        iter_  = iter_+1\n",
    "    return best"
   ]
  },
  {
   "cell_type": "code",
   "execution_count": 28,
   "metadata": {},
   "outputs": [
    {
     "name": "stdout",
     "output_type": "stream",
     "text": [
      "[1, 1, 0, 0, 0, 2, 2, 2, 4, 4, 4, 3, 4, 4, 1, 3, 4, 1, 2, 2, 2, 0, 2, 1, 0, 1, 0, 0, 1, 3, 0, 3, 1, 2, 4, 1, 3]\n",
      "340.0\n"
     ]
    }
   ],
   "source": [
    "best = search(Job_num,job,30000)\n",
    "print(best['cost'])"
   ]
  },
  {
   "cell_type": "code",
   "execution_count": 26,
   "metadata": {},
   "outputs": [],
   "source": [
    "def get_plot(best):\n",
    "    fit,duration,sol = get_fit(best['vector'])\n",
    "    tmp = []\n",
    "    for m in range(Ma_num):\n",
    "        time_1 = [pd.Timestamp('2020-01-01 01') + DateOffset(hours = h) for h in list(accumulate(duration[m]))]\n",
    "        for id_,time in enumerate(time_1[:-1]):\n",
    "            tmp.append(dict(Task=\"Machine_{}\".format(m),Start=str(time),\n",
    "                            Finish=str(time_1[id_+1]),Job_id= 'Job_'+str(sol[m][id_])))\n",
    "    fig = ff.create_gantt(tmp, colors=colors, index_col='Job_id', show_colorbar=True,\n",
    "                      group_tasks=True)\n",
    "    fig.show()"
   ]
  },
  {
   "cell_type": "code",
   "execution_count": 29,
   "metadata": {},
   "outputs": [
    {
     "data": {
      "application/vnd.plotly.v1+json": {
       "config": {
        "plotlyServerURL": "https://plot.ly"
       },
       "data": [
        {
         "fill": "toself",
         "fillcolor": "rgb(107, 127, 135)",
         "hoverinfo": "name",
         "legendgroup": "rgb(107, 127, 135)",
         "mode": "none",
         "name": "Job_4",
         "type": "scatter",
         "x": [
          "2020-02-03 12:00:00",
          "2020-02-07 16:00:00",
          "2020-02-07 16:00:00",
          "2020-02-03 12:00:00",
          "2020-02-03 12:00:00",
          "2020-01-05 11:00:00",
          "2020-01-05 13:00:00",
          "2020-01-05 13:00:00",
          "2020-01-05 11:00:00",
          "2020-01-05 11:00:00",
          "2020-01-10 11:00:00",
          "2020-01-14 15:00:00",
          "2020-01-14 15:00:00",
          "2020-01-10 11:00:00",
          "2020-01-10 11:00:00",
          "2020-01-14 15:00:00",
          "2020-01-14 17:00:00",
          "2020-01-14 17:00:00",
          "2020-01-14 15:00:00",
          "2020-01-14 15:00:00",
          "2020-01-18 21:00:00",
          "2020-01-18 23:00:00",
          "2020-01-18 23:00:00",
          "2020-01-18 21:00:00",
          "2020-01-18 21:00:00",
          "2020-01-14 10:00:00",
          "2020-01-18 14:00:00",
          "2020-01-18 14:00:00",
          "2020-01-14 10:00:00",
          "2020-01-14 10:00:00",
          "2020-01-18 14:00:00",
          "2020-01-18 17:00:00",
          "2020-01-18 17:00:00",
          "2020-01-18 14:00:00"
         ],
         "y": [
          1.8,
          1.8,
          2.2,
          2.2,
          null,
          0.8,
          0.8,
          1.2,
          1.2,
          null,
          0.8,
          0.8,
          1.2,
          1.2,
          null,
          0.8,
          0.8,
          1.2,
          1.2,
          null,
          0.8,
          0.8,
          1.2,
          1.2,
          null,
          -0.2,
          -0.2,
          0.2,
          0.2,
          null,
          -0.2,
          -0.2,
          0.2,
          0.2
         ]
        },
        {
         "fill": "toself",
         "fillcolor": "rgb(114, 44, 121)",
         "hoverinfo": "name",
         "legendgroup": "rgb(114, 44, 121)",
         "mode": "none",
         "name": "Job_1",
         "type": "scatter",
         "x": [
          "2020-01-05 05:00:00",
          "2020-01-09 09:00:00",
          "2020-01-09 09:00:00",
          "2020-01-05 05:00:00",
          "2020-01-05 05:00:00",
          "2020-01-17 20:00:00",
          "2020-01-22 00:00:00",
          "2020-01-22 00:00:00",
          "2020-01-17 20:00:00",
          "2020-01-17 20:00:00",
          "2020-01-26 04:00:00",
          "2020-01-30 08:00:00",
          "2020-01-30 08:00:00",
          "2020-01-26 04:00:00",
          "2020-01-26 04:00:00",
          "2020-02-07 16:00:00",
          "2020-02-07 19:00:00",
          "2020-02-07 19:00:00",
          "2020-02-07 16:00:00",
          "2020-02-07 16:00:00",
          "2020-02-11 23:00:00",
          "2020-02-16 03:00:00",
          "2020-02-16 03:00:00",
          "2020-02-11 23:00:00",
          "2020-02-11 23:00:00",
          "2020-01-01 07:00:00",
          "2020-01-05 11:00:00",
          "2020-01-05 11:00:00",
          "2020-01-01 07:00:00",
          "2020-01-01 07:00:00",
          "2020-01-06 01:00:00",
          "2020-01-06 07:00:00",
          "2020-01-06 07:00:00",
          "2020-01-06 01:00:00",
          "2020-01-06 01:00:00",
          "2020-01-06 07:00:00",
          "2020-01-10 11:00:00",
          "2020-01-10 11:00:00",
          "2020-01-06 07:00:00",
          "2020-01-06 07:00:00",
          "2020-01-05 16:00:00",
          "2020-01-05 18:00:00",
          "2020-01-05 18:00:00",
          "2020-01-05 16:00:00"
         ],
         "y": [
          1.8,
          1.8,
          2.2,
          2.2,
          null,
          1.8,
          1.8,
          2.2,
          2.2,
          null,
          1.8,
          1.8,
          2.2,
          2.2,
          null,
          1.8,
          1.8,
          2.2,
          2.2,
          null,
          1.8,
          1.8,
          2.2,
          2.2,
          null,
          0.8,
          0.8,
          1.2,
          1.2,
          null,
          0.8,
          0.8,
          1.2,
          1.2,
          null,
          0.8,
          0.8,
          1.2,
          1.2,
          null,
          -0.2,
          -0.2,
          0.2,
          0.2
         ]
        },
        {
         "fill": "toself",
         "fillcolor": "rgb(198, 47, 105)",
         "hoverinfo": "name",
         "legendgroup": "rgb(198, 47, 105)",
         "mode": "none",
         "name": "Job_2",
         "type": "scatter",
         "x": [
          "2020-01-13 16:00:00",
          "2020-01-17 20:00:00",
          "2020-01-17 20:00:00",
          "2020-01-13 16:00:00",
          "2020-01-13 16:00:00",
          "2020-02-07 19:00:00",
          "2020-02-11 23:00:00",
          "2020-02-11 23:00:00",
          "2020-02-07 19:00:00",
          "2020-02-07 19:00:00",
          "2020-01-05 16:00:00",
          "2020-01-05 19:00:00",
          "2020-01-05 19:00:00",
          "2020-01-05 16:00:00",
          "2020-01-05 16:00:00",
          "2020-01-05 19:00:00",
          "2020-01-06 01:00:00",
          "2020-01-06 01:00:00",
          "2020-01-05 19:00:00",
          "2020-01-05 19:00:00",
          "2020-01-01 06:00:00",
          "2020-01-05 10:00:00",
          "2020-01-05 10:00:00",
          "2020-01-01 06:00:00",
          "2020-01-01 06:00:00",
          "2020-01-05 21:00:00",
          "2020-01-10 01:00:00",
          "2020-01-10 01:00:00",
          "2020-01-05 21:00:00",
          "2020-01-05 21:00:00",
          "2020-01-10 04:00:00",
          "2020-01-10 06:00:00",
          "2020-01-10 06:00:00",
          "2020-01-10 04:00:00"
         ],
         "y": [
          1.8,
          1.8,
          2.2,
          2.2,
          null,
          1.8,
          1.8,
          2.2,
          2.2,
          null,
          0.8,
          0.8,
          1.2,
          1.2,
          null,
          0.8,
          0.8,
          1.2,
          1.2,
          null,
          -0.2,
          -0.2,
          0.2,
          0.2,
          null,
          -0.2,
          -0.2,
          0.2,
          0.2,
          null,
          -0.2,
          -0.2,
          0.2,
          0.2
         ]
        },
        {
         "fill": "toself",
         "fillcolor": "rgb(46, 137, 205)",
         "hoverinfo": "name",
         "legendgroup": "rgb(46, 137, 205)",
         "mode": "none",
         "name": "Job_0",
         "type": "scatter",
         "x": [
          "2020-01-09 09:00:00",
          "2020-01-13 13:00:00",
          "2020-01-13 13:00:00",
          "2020-01-09 09:00:00",
          "2020-01-09 09:00:00",
          "2020-01-22 00:00:00",
          "2020-01-26 04:00:00",
          "2020-01-26 04:00:00",
          "2020-01-22 00:00:00",
          "2020-01-22 00:00:00",
          "2020-01-30 08:00:00",
          "2020-02-03 12:00:00",
          "2020-02-03 12:00:00",
          "2020-01-30 08:00:00",
          "2020-01-30 08:00:00",
          "2020-01-14 17:00:00",
          "2020-01-18 21:00:00",
          "2020-01-18 21:00:00",
          "2020-01-14 17:00:00",
          "2020-01-14 17:00:00",
          "2020-01-01 03:00:00",
          "2020-01-01 06:00:00",
          "2020-01-01 06:00:00",
          "2020-01-01 03:00:00",
          "2020-01-01 03:00:00",
          "2020-01-05 18:00:00",
          "2020-01-05 21:00:00",
          "2020-01-05 21:00:00",
          "2020-01-05 18:00:00",
          "2020-01-05 18:00:00",
          "2020-01-10 06:00:00",
          "2020-01-14 10:00:00",
          "2020-01-14 10:00:00",
          "2020-01-10 06:00:00"
         ],
         "y": [
          1.8,
          1.8,
          2.2,
          2.2,
          null,
          1.8,
          1.8,
          2.2,
          2.2,
          null,
          1.8,
          1.8,
          2.2,
          2.2,
          null,
          0.8,
          0.8,
          1.2,
          1.2,
          null,
          -0.2,
          -0.2,
          0.2,
          0.2,
          null,
          -0.2,
          -0.2,
          0.2,
          0.2,
          null,
          -0.2,
          -0.2,
          0.2,
          0.2
         ]
        },
        {
         "fill": "toself",
         "fillcolor": "rgb(58, 149, 136)",
         "hoverinfo": "name",
         "legendgroup": "rgb(58, 149, 136)",
         "mode": "none",
         "name": "Job_3",
         "type": "scatter",
         "x": [
          "2020-01-13 13:00:00",
          "2020-01-13 16:00:00",
          "2020-01-13 16:00:00",
          "2020-01-13 13:00:00",
          "2020-01-13 13:00:00",
          "2020-01-05 13:00:00",
          "2020-01-05 16:00:00",
          "2020-01-05 16:00:00",
          "2020-01-05 13:00:00",
          "2020-01-05 13:00:00",
          "2020-01-05 10:00:00",
          "2020-01-05 16:00:00",
          "2020-01-05 16:00:00",
          "2020-01-05 10:00:00",
          "2020-01-05 10:00:00",
          "2020-01-10 01:00:00",
          "2020-01-10 04:00:00",
          "2020-01-10 04:00:00",
          "2020-01-10 01:00:00"
         ],
         "y": [
          1.8,
          1.8,
          2.2,
          2.2,
          null,
          0.8,
          0.8,
          1.2,
          1.2,
          null,
          -0.2,
          -0.2,
          0.2,
          0.2,
          null,
          -0.2,
          -0.2,
          0.2,
          0.2
         ]
        },
        {
         "legendgroup": "rgb(107, 127, 135)",
         "marker": {
          "color": "rgb(107, 127, 135)",
          "opacity": 0,
          "size": 1
         },
         "mode": "markers",
         "name": "",
         "showlegend": false,
         "text": [
          null,
          null,
          null,
          null,
          null,
          null,
          null,
          null,
          null,
          null,
          null,
          null,
          null,
          null
         ],
         "type": "scatter",
         "x": [
          "2020-02-03 12:00:00",
          "2020-02-07 16:00:00",
          "2020-01-05 11:00:00",
          "2020-01-05 13:00:00",
          "2020-01-10 11:00:00",
          "2020-01-14 15:00:00",
          "2020-01-14 15:00:00",
          "2020-01-14 17:00:00",
          "2020-01-18 21:00:00",
          "2020-01-18 23:00:00",
          "2020-01-14 10:00:00",
          "2020-01-18 14:00:00",
          "2020-01-18 14:00:00",
          "2020-01-18 17:00:00"
         ],
         "y": [
          2,
          2,
          1,
          1,
          1,
          1,
          1,
          1,
          1,
          1,
          0,
          0,
          0,
          0
         ]
        },
        {
         "legendgroup": "rgb(114, 44, 121)",
         "marker": {
          "color": "rgb(114, 44, 121)",
          "opacity": 0,
          "size": 1
         },
         "mode": "markers",
         "name": "",
         "showlegend": false,
         "text": [
          null,
          null,
          null,
          null,
          null,
          null,
          null,
          null,
          null,
          null,
          null,
          null,
          null,
          null,
          null,
          null,
          null,
          null
         ],
         "type": "scatter",
         "x": [
          "2020-01-05 05:00:00",
          "2020-01-09 09:00:00",
          "2020-01-17 20:00:00",
          "2020-01-22 00:00:00",
          "2020-01-26 04:00:00",
          "2020-01-30 08:00:00",
          "2020-02-07 16:00:00",
          "2020-02-07 19:00:00",
          "2020-02-11 23:00:00",
          "2020-02-16 03:00:00",
          "2020-01-01 07:00:00",
          "2020-01-05 11:00:00",
          "2020-01-06 01:00:00",
          "2020-01-06 07:00:00",
          "2020-01-06 07:00:00",
          "2020-01-10 11:00:00",
          "2020-01-05 16:00:00",
          "2020-01-05 18:00:00"
         ],
         "y": [
          2,
          2,
          2,
          2,
          2,
          2,
          2,
          2,
          2,
          2,
          1,
          1,
          1,
          1,
          1,
          1,
          0,
          0
         ]
        },
        {
         "legendgroup": "rgb(198, 47, 105)",
         "marker": {
          "color": "rgb(198, 47, 105)",
          "opacity": 0,
          "size": 1
         },
         "mode": "markers",
         "name": "",
         "showlegend": false,
         "text": [
          null,
          null,
          null,
          null,
          null,
          null,
          null,
          null,
          null,
          null,
          null,
          null,
          null,
          null
         ],
         "type": "scatter",
         "x": [
          "2020-01-13 16:00:00",
          "2020-01-17 20:00:00",
          "2020-02-07 19:00:00",
          "2020-02-11 23:00:00",
          "2020-01-05 16:00:00",
          "2020-01-05 19:00:00",
          "2020-01-05 19:00:00",
          "2020-01-06 01:00:00",
          "2020-01-01 06:00:00",
          "2020-01-05 10:00:00",
          "2020-01-05 21:00:00",
          "2020-01-10 01:00:00",
          "2020-01-10 04:00:00",
          "2020-01-10 06:00:00"
         ],
         "y": [
          2,
          2,
          2,
          2,
          1,
          1,
          1,
          1,
          0,
          0,
          0,
          0,
          0,
          0
         ]
        },
        {
         "legendgroup": "rgb(46, 137, 205)",
         "marker": {
          "color": "rgb(46, 137, 205)",
          "opacity": 0,
          "size": 1
         },
         "mode": "markers",
         "name": "",
         "showlegend": false,
         "text": [
          null,
          null,
          null,
          null,
          null,
          null,
          null,
          null,
          null,
          null,
          null,
          null,
          null,
          null
         ],
         "type": "scatter",
         "x": [
          "2020-01-09 09:00:00",
          "2020-01-13 13:00:00",
          "2020-01-22 00:00:00",
          "2020-01-26 04:00:00",
          "2020-01-30 08:00:00",
          "2020-02-03 12:00:00",
          "2020-01-14 17:00:00",
          "2020-01-18 21:00:00",
          "2020-01-01 03:00:00",
          "2020-01-01 06:00:00",
          "2020-01-05 18:00:00",
          "2020-01-05 21:00:00",
          "2020-01-10 06:00:00",
          "2020-01-14 10:00:00"
         ],
         "y": [
          2,
          2,
          2,
          2,
          2,
          2,
          1,
          1,
          0,
          0,
          0,
          0,
          0,
          0
         ]
        },
        {
         "legendgroup": "rgb(58, 149, 136)",
         "marker": {
          "color": "rgb(58, 149, 136)",
          "opacity": 0,
          "size": 1
         },
         "mode": "markers",
         "name": "",
         "showlegend": false,
         "text": [
          null,
          null,
          null,
          null,
          null,
          null,
          null,
          null
         ],
         "type": "scatter",
         "x": [
          "2020-01-13 13:00:00",
          "2020-01-13 16:00:00",
          "2020-01-05 13:00:00",
          "2020-01-05 16:00:00",
          "2020-01-05 10:00:00",
          "2020-01-05 16:00:00",
          "2020-01-10 01:00:00",
          "2020-01-10 04:00:00"
         ],
         "y": [
          2,
          2,
          1,
          1,
          0,
          0,
          0,
          0
         ]
        }
       ],
       "layout": {
        "height": 600,
        "hovermode": "closest",
        "showlegend": true,
        "template": {
         "data": {
          "bar": [
           {
            "error_x": {
             "color": "#2a3f5f"
            },
            "error_y": {
             "color": "#2a3f5f"
            },
            "marker": {
             "line": {
              "color": "#E5ECF6",
              "width": 0.5
             }
            },
            "type": "bar"
           }
          ],
          "barpolar": [
           {
            "marker": {
             "line": {
              "color": "#E5ECF6",
              "width": 0.5
             }
            },
            "type": "barpolar"
           }
          ],
          "carpet": [
           {
            "aaxis": {
             "endlinecolor": "#2a3f5f",
             "gridcolor": "white",
             "linecolor": "white",
             "minorgridcolor": "white",
             "startlinecolor": "#2a3f5f"
            },
            "baxis": {
             "endlinecolor": "#2a3f5f",
             "gridcolor": "white",
             "linecolor": "white",
             "minorgridcolor": "white",
             "startlinecolor": "#2a3f5f"
            },
            "type": "carpet"
           }
          ],
          "choropleth": [
           {
            "colorbar": {
             "outlinewidth": 0,
             "ticks": ""
            },
            "type": "choropleth"
           }
          ],
          "contour": [
           {
            "colorbar": {
             "outlinewidth": 0,
             "ticks": ""
            },
            "colorscale": [
             [
              0,
              "#0d0887"
             ],
             [
              0.1111111111111111,
              "#46039f"
             ],
             [
              0.2222222222222222,
              "#7201a8"
             ],
             [
              0.3333333333333333,
              "#9c179e"
             ],
             [
              0.4444444444444444,
              "#bd3786"
             ],
             [
              0.5555555555555556,
              "#d8576b"
             ],
             [
              0.6666666666666666,
              "#ed7953"
             ],
             [
              0.7777777777777778,
              "#fb9f3a"
             ],
             [
              0.8888888888888888,
              "#fdca26"
             ],
             [
              1,
              "#f0f921"
             ]
            ],
            "type": "contour"
           }
          ],
          "contourcarpet": [
           {
            "colorbar": {
             "outlinewidth": 0,
             "ticks": ""
            },
            "type": "contourcarpet"
           }
          ],
          "heatmap": [
           {
            "colorbar": {
             "outlinewidth": 0,
             "ticks": ""
            },
            "colorscale": [
             [
              0,
              "#0d0887"
             ],
             [
              0.1111111111111111,
              "#46039f"
             ],
             [
              0.2222222222222222,
              "#7201a8"
             ],
             [
              0.3333333333333333,
              "#9c179e"
             ],
             [
              0.4444444444444444,
              "#bd3786"
             ],
             [
              0.5555555555555556,
              "#d8576b"
             ],
             [
              0.6666666666666666,
              "#ed7953"
             ],
             [
              0.7777777777777778,
              "#fb9f3a"
             ],
             [
              0.8888888888888888,
              "#fdca26"
             ],
             [
              1,
              "#f0f921"
             ]
            ],
            "type": "heatmap"
           }
          ],
          "heatmapgl": [
           {
            "colorbar": {
             "outlinewidth": 0,
             "ticks": ""
            },
            "colorscale": [
             [
              0,
              "#0d0887"
             ],
             [
              0.1111111111111111,
              "#46039f"
             ],
             [
              0.2222222222222222,
              "#7201a8"
             ],
             [
              0.3333333333333333,
              "#9c179e"
             ],
             [
              0.4444444444444444,
              "#bd3786"
             ],
             [
              0.5555555555555556,
              "#d8576b"
             ],
             [
              0.6666666666666666,
              "#ed7953"
             ],
             [
              0.7777777777777778,
              "#fb9f3a"
             ],
             [
              0.8888888888888888,
              "#fdca26"
             ],
             [
              1,
              "#f0f921"
             ]
            ],
            "type": "heatmapgl"
           }
          ],
          "histogram": [
           {
            "marker": {
             "colorbar": {
              "outlinewidth": 0,
              "ticks": ""
             }
            },
            "type": "histogram"
           }
          ],
          "histogram2d": [
           {
            "colorbar": {
             "outlinewidth": 0,
             "ticks": ""
            },
            "colorscale": [
             [
              0,
              "#0d0887"
             ],
             [
              0.1111111111111111,
              "#46039f"
             ],
             [
              0.2222222222222222,
              "#7201a8"
             ],
             [
              0.3333333333333333,
              "#9c179e"
             ],
             [
              0.4444444444444444,
              "#bd3786"
             ],
             [
              0.5555555555555556,
              "#d8576b"
             ],
             [
              0.6666666666666666,
              "#ed7953"
             ],
             [
              0.7777777777777778,
              "#fb9f3a"
             ],
             [
              0.8888888888888888,
              "#fdca26"
             ],
             [
              1,
              "#f0f921"
             ]
            ],
            "type": "histogram2d"
           }
          ],
          "histogram2dcontour": [
           {
            "colorbar": {
             "outlinewidth": 0,
             "ticks": ""
            },
            "colorscale": [
             [
              0,
              "#0d0887"
             ],
             [
              0.1111111111111111,
              "#46039f"
             ],
             [
              0.2222222222222222,
              "#7201a8"
             ],
             [
              0.3333333333333333,
              "#9c179e"
             ],
             [
              0.4444444444444444,
              "#bd3786"
             ],
             [
              0.5555555555555556,
              "#d8576b"
             ],
             [
              0.6666666666666666,
              "#ed7953"
             ],
             [
              0.7777777777777778,
              "#fb9f3a"
             ],
             [
              0.8888888888888888,
              "#fdca26"
             ],
             [
              1,
              "#f0f921"
             ]
            ],
            "type": "histogram2dcontour"
           }
          ],
          "mesh3d": [
           {
            "colorbar": {
             "outlinewidth": 0,
             "ticks": ""
            },
            "type": "mesh3d"
           }
          ],
          "parcoords": [
           {
            "line": {
             "colorbar": {
              "outlinewidth": 0,
              "ticks": ""
             }
            },
            "type": "parcoords"
           }
          ],
          "pie": [
           {
            "automargin": true,
            "type": "pie"
           }
          ],
          "scatter": [
           {
            "marker": {
             "colorbar": {
              "outlinewidth": 0,
              "ticks": ""
             }
            },
            "type": "scatter"
           }
          ],
          "scatter3d": [
           {
            "line": {
             "colorbar": {
              "outlinewidth": 0,
              "ticks": ""
             }
            },
            "marker": {
             "colorbar": {
              "outlinewidth": 0,
              "ticks": ""
             }
            },
            "type": "scatter3d"
           }
          ],
          "scattercarpet": [
           {
            "marker": {
             "colorbar": {
              "outlinewidth": 0,
              "ticks": ""
             }
            },
            "type": "scattercarpet"
           }
          ],
          "scattergeo": [
           {
            "marker": {
             "colorbar": {
              "outlinewidth": 0,
              "ticks": ""
             }
            },
            "type": "scattergeo"
           }
          ],
          "scattergl": [
           {
            "marker": {
             "colorbar": {
              "outlinewidth": 0,
              "ticks": ""
             }
            },
            "type": "scattergl"
           }
          ],
          "scattermapbox": [
           {
            "marker": {
             "colorbar": {
              "outlinewidth": 0,
              "ticks": ""
             }
            },
            "type": "scattermapbox"
           }
          ],
          "scatterpolar": [
           {
            "marker": {
             "colorbar": {
              "outlinewidth": 0,
              "ticks": ""
             }
            },
            "type": "scatterpolar"
           }
          ],
          "scatterpolargl": [
           {
            "marker": {
             "colorbar": {
              "outlinewidth": 0,
              "ticks": ""
             }
            },
            "type": "scatterpolargl"
           }
          ],
          "scatterternary": [
           {
            "marker": {
             "colorbar": {
              "outlinewidth": 0,
              "ticks": ""
             }
            },
            "type": "scatterternary"
           }
          ],
          "surface": [
           {
            "colorbar": {
             "outlinewidth": 0,
             "ticks": ""
            },
            "colorscale": [
             [
              0,
              "#0d0887"
             ],
             [
              0.1111111111111111,
              "#46039f"
             ],
             [
              0.2222222222222222,
              "#7201a8"
             ],
             [
              0.3333333333333333,
              "#9c179e"
             ],
             [
              0.4444444444444444,
              "#bd3786"
             ],
             [
              0.5555555555555556,
              "#d8576b"
             ],
             [
              0.6666666666666666,
              "#ed7953"
             ],
             [
              0.7777777777777778,
              "#fb9f3a"
             ],
             [
              0.8888888888888888,
              "#fdca26"
             ],
             [
              1,
              "#f0f921"
             ]
            ],
            "type": "surface"
           }
          ],
          "table": [
           {
            "cells": {
             "fill": {
              "color": "#EBF0F8"
             },
             "line": {
              "color": "white"
             }
            },
            "header": {
             "fill": {
              "color": "#C8D4E3"
             },
             "line": {
              "color": "white"
             }
            },
            "type": "table"
           }
          ]
         },
         "layout": {
          "annotationdefaults": {
           "arrowcolor": "#2a3f5f",
           "arrowhead": 0,
           "arrowwidth": 1
          },
          "coloraxis": {
           "colorbar": {
            "outlinewidth": 0,
            "ticks": ""
           }
          },
          "colorscale": {
           "diverging": [
            [
             0,
             "#8e0152"
            ],
            [
             0.1,
             "#c51b7d"
            ],
            [
             0.2,
             "#de77ae"
            ],
            [
             0.3,
             "#f1b6da"
            ],
            [
             0.4,
             "#fde0ef"
            ],
            [
             0.5,
             "#f7f7f7"
            ],
            [
             0.6,
             "#e6f5d0"
            ],
            [
             0.7,
             "#b8e186"
            ],
            [
             0.8,
             "#7fbc41"
            ],
            [
             0.9,
             "#4d9221"
            ],
            [
             1,
             "#276419"
            ]
           ],
           "sequential": [
            [
             0,
             "#0d0887"
            ],
            [
             0.1111111111111111,
             "#46039f"
            ],
            [
             0.2222222222222222,
             "#7201a8"
            ],
            [
             0.3333333333333333,
             "#9c179e"
            ],
            [
             0.4444444444444444,
             "#bd3786"
            ],
            [
             0.5555555555555556,
             "#d8576b"
            ],
            [
             0.6666666666666666,
             "#ed7953"
            ],
            [
             0.7777777777777778,
             "#fb9f3a"
            ],
            [
             0.8888888888888888,
             "#fdca26"
            ],
            [
             1,
             "#f0f921"
            ]
           ],
           "sequentialminus": [
            [
             0,
             "#0d0887"
            ],
            [
             0.1111111111111111,
             "#46039f"
            ],
            [
             0.2222222222222222,
             "#7201a8"
            ],
            [
             0.3333333333333333,
             "#9c179e"
            ],
            [
             0.4444444444444444,
             "#bd3786"
            ],
            [
             0.5555555555555556,
             "#d8576b"
            ],
            [
             0.6666666666666666,
             "#ed7953"
            ],
            [
             0.7777777777777778,
             "#fb9f3a"
            ],
            [
             0.8888888888888888,
             "#fdca26"
            ],
            [
             1,
             "#f0f921"
            ]
           ]
          },
          "colorway": [
           "#636efa",
           "#EF553B",
           "#00cc96",
           "#ab63fa",
           "#FFA15A",
           "#19d3f3",
           "#FF6692",
           "#B6E880",
           "#FF97FF",
           "#FECB52"
          ],
          "font": {
           "color": "#2a3f5f"
          },
          "geo": {
           "bgcolor": "white",
           "lakecolor": "white",
           "landcolor": "#E5ECF6",
           "showlakes": true,
           "showland": true,
           "subunitcolor": "white"
          },
          "hoverlabel": {
           "align": "left"
          },
          "hovermode": "closest",
          "mapbox": {
           "style": "light"
          },
          "paper_bgcolor": "white",
          "plot_bgcolor": "#E5ECF6",
          "polar": {
           "angularaxis": {
            "gridcolor": "white",
            "linecolor": "white",
            "ticks": ""
           },
           "bgcolor": "#E5ECF6",
           "radialaxis": {
            "gridcolor": "white",
            "linecolor": "white",
            "ticks": ""
           }
          },
          "scene": {
           "xaxis": {
            "backgroundcolor": "#E5ECF6",
            "gridcolor": "white",
            "gridwidth": 2,
            "linecolor": "white",
            "showbackground": true,
            "ticks": "",
            "zerolinecolor": "white"
           },
           "yaxis": {
            "backgroundcolor": "#E5ECF6",
            "gridcolor": "white",
            "gridwidth": 2,
            "linecolor": "white",
            "showbackground": true,
            "ticks": "",
            "zerolinecolor": "white"
           },
           "zaxis": {
            "backgroundcolor": "#E5ECF6",
            "gridcolor": "white",
            "gridwidth": 2,
            "linecolor": "white",
            "showbackground": true,
            "ticks": "",
            "zerolinecolor": "white"
           }
          },
          "shapedefaults": {
           "line": {
            "color": "#2a3f5f"
           }
          },
          "ternary": {
           "aaxis": {
            "gridcolor": "white",
            "linecolor": "white",
            "ticks": ""
           },
           "baxis": {
            "gridcolor": "white",
            "linecolor": "white",
            "ticks": ""
           },
           "bgcolor": "#E5ECF6",
           "caxis": {
            "gridcolor": "white",
            "linecolor": "white",
            "ticks": ""
           }
          },
          "title": {
           "x": 0.05
          },
          "xaxis": {
           "automargin": true,
           "gridcolor": "white",
           "linecolor": "white",
           "ticks": "",
           "title": {
            "standoff": 15
           },
           "zerolinecolor": "white",
           "zerolinewidth": 2
          },
          "yaxis": {
           "automargin": true,
           "gridcolor": "white",
           "linecolor": "white",
           "ticks": "",
           "title": {
            "standoff": 15
           },
           "zerolinecolor": "white",
           "zerolinewidth": 2
          }
         }
        },
        "title": {
         "text": "Gantt Chart"
        },
        "xaxis": {
         "rangeselector": {
          "buttons": [
           {
            "count": 7,
            "label": "1w",
            "step": "day",
            "stepmode": "backward"
           },
           {
            "count": 1,
            "label": "1m",
            "step": "month",
            "stepmode": "backward"
           },
           {
            "count": 6,
            "label": "6m",
            "step": "month",
            "stepmode": "backward"
           },
           {
            "count": 1,
            "label": "YTD",
            "step": "year",
            "stepmode": "todate"
           },
           {
            "count": 1,
            "label": "1y",
            "step": "year",
            "stepmode": "backward"
           },
           {
            "step": "all"
           }
          ]
         },
         "showgrid": false,
         "type": "date",
         "zeroline": false
        },
        "yaxis": {
         "autorange": false,
         "range": [
          -1,
          4
         ],
         "showgrid": false,
         "ticktext": [
          "Machine_2",
          "Machine_1",
          "Machine_0"
         ],
         "tickvals": [
          0,
          1,
          2
         ],
         "zeroline": false
        }
       }
      },
      "text/html": [
       "<div>\n",
       "        \n",
       "        \n",
       "            <div id=\"48076df8-f82c-4969-b355-3ae8c123bec6\" class=\"plotly-graph-div\" style=\"height:600px; width:100%;\"></div>\n",
       "            <script type=\"text/javascript\">\n",
       "                require([\"plotly\"], function(Plotly) {\n",
       "                    window.PLOTLYENV=window.PLOTLYENV || {};\n",
       "                    \n",
       "                if (document.getElementById(\"48076df8-f82c-4969-b355-3ae8c123bec6\")) {\n",
       "                    Plotly.newPlot(\n",
       "                        '48076df8-f82c-4969-b355-3ae8c123bec6',\n",
       "                        [{\"fill\": \"toself\", \"fillcolor\": \"rgb(107, 127, 135)\", \"hoverinfo\": \"name\", \"legendgroup\": \"rgb(107, 127, 135)\", \"mode\": \"none\", \"name\": \"Job_4\", \"type\": \"scatter\", \"x\": [\"2020-02-03 12:00:00\", \"2020-02-07 16:00:00\", \"2020-02-07 16:00:00\", \"2020-02-03 12:00:00\", \"2020-02-03 12:00:00\", \"2020-01-05 11:00:00\", \"2020-01-05 13:00:00\", \"2020-01-05 13:00:00\", \"2020-01-05 11:00:00\", \"2020-01-05 11:00:00\", \"2020-01-10 11:00:00\", \"2020-01-14 15:00:00\", \"2020-01-14 15:00:00\", \"2020-01-10 11:00:00\", \"2020-01-10 11:00:00\", \"2020-01-14 15:00:00\", \"2020-01-14 17:00:00\", \"2020-01-14 17:00:00\", \"2020-01-14 15:00:00\", \"2020-01-14 15:00:00\", \"2020-01-18 21:00:00\", \"2020-01-18 23:00:00\", \"2020-01-18 23:00:00\", \"2020-01-18 21:00:00\", \"2020-01-18 21:00:00\", \"2020-01-14 10:00:00\", \"2020-01-18 14:00:00\", \"2020-01-18 14:00:00\", \"2020-01-14 10:00:00\", \"2020-01-14 10:00:00\", \"2020-01-18 14:00:00\", \"2020-01-18 17:00:00\", \"2020-01-18 17:00:00\", \"2020-01-18 14:00:00\"], \"y\": [1.8, 1.8, 2.2, 2.2, null, 0.8, 0.8, 1.2, 1.2, null, 0.8, 0.8, 1.2, 1.2, null, 0.8, 0.8, 1.2, 1.2, null, 0.8, 0.8, 1.2, 1.2, null, -0.2, -0.2, 0.2, 0.2, null, -0.2, -0.2, 0.2, 0.2]}, {\"fill\": \"toself\", \"fillcolor\": \"rgb(114, 44, 121)\", \"hoverinfo\": \"name\", \"legendgroup\": \"rgb(114, 44, 121)\", \"mode\": \"none\", \"name\": \"Job_1\", \"type\": \"scatter\", \"x\": [\"2020-01-05 05:00:00\", \"2020-01-09 09:00:00\", \"2020-01-09 09:00:00\", \"2020-01-05 05:00:00\", \"2020-01-05 05:00:00\", \"2020-01-17 20:00:00\", \"2020-01-22 00:00:00\", \"2020-01-22 00:00:00\", \"2020-01-17 20:00:00\", \"2020-01-17 20:00:00\", \"2020-01-26 04:00:00\", \"2020-01-30 08:00:00\", \"2020-01-30 08:00:00\", \"2020-01-26 04:00:00\", \"2020-01-26 04:00:00\", \"2020-02-07 16:00:00\", \"2020-02-07 19:00:00\", \"2020-02-07 19:00:00\", \"2020-02-07 16:00:00\", \"2020-02-07 16:00:00\", \"2020-02-11 23:00:00\", \"2020-02-16 03:00:00\", \"2020-02-16 03:00:00\", \"2020-02-11 23:00:00\", \"2020-02-11 23:00:00\", \"2020-01-01 07:00:00\", \"2020-01-05 11:00:00\", \"2020-01-05 11:00:00\", \"2020-01-01 07:00:00\", \"2020-01-01 07:00:00\", \"2020-01-06 01:00:00\", \"2020-01-06 07:00:00\", \"2020-01-06 07:00:00\", \"2020-01-06 01:00:00\", \"2020-01-06 01:00:00\", \"2020-01-06 07:00:00\", \"2020-01-10 11:00:00\", \"2020-01-10 11:00:00\", \"2020-01-06 07:00:00\", \"2020-01-06 07:00:00\", \"2020-01-05 16:00:00\", \"2020-01-05 18:00:00\", \"2020-01-05 18:00:00\", \"2020-01-05 16:00:00\"], \"y\": [1.8, 1.8, 2.2, 2.2, null, 1.8, 1.8, 2.2, 2.2, null, 1.8, 1.8, 2.2, 2.2, null, 1.8, 1.8, 2.2, 2.2, null, 1.8, 1.8, 2.2, 2.2, null, 0.8, 0.8, 1.2, 1.2, null, 0.8, 0.8, 1.2, 1.2, null, 0.8, 0.8, 1.2, 1.2, null, -0.2, -0.2, 0.2, 0.2]}, {\"fill\": \"toself\", \"fillcolor\": \"rgb(198, 47, 105)\", \"hoverinfo\": \"name\", \"legendgroup\": \"rgb(198, 47, 105)\", \"mode\": \"none\", \"name\": \"Job_2\", \"type\": \"scatter\", \"x\": [\"2020-01-13 16:00:00\", \"2020-01-17 20:00:00\", \"2020-01-17 20:00:00\", \"2020-01-13 16:00:00\", \"2020-01-13 16:00:00\", \"2020-02-07 19:00:00\", \"2020-02-11 23:00:00\", \"2020-02-11 23:00:00\", \"2020-02-07 19:00:00\", \"2020-02-07 19:00:00\", \"2020-01-05 16:00:00\", \"2020-01-05 19:00:00\", \"2020-01-05 19:00:00\", \"2020-01-05 16:00:00\", \"2020-01-05 16:00:00\", \"2020-01-05 19:00:00\", \"2020-01-06 01:00:00\", \"2020-01-06 01:00:00\", \"2020-01-05 19:00:00\", \"2020-01-05 19:00:00\", \"2020-01-01 06:00:00\", \"2020-01-05 10:00:00\", \"2020-01-05 10:00:00\", \"2020-01-01 06:00:00\", \"2020-01-01 06:00:00\", \"2020-01-05 21:00:00\", \"2020-01-10 01:00:00\", \"2020-01-10 01:00:00\", \"2020-01-05 21:00:00\", \"2020-01-05 21:00:00\", \"2020-01-10 04:00:00\", \"2020-01-10 06:00:00\", \"2020-01-10 06:00:00\", \"2020-01-10 04:00:00\"], \"y\": [1.8, 1.8, 2.2, 2.2, null, 1.8, 1.8, 2.2, 2.2, null, 0.8, 0.8, 1.2, 1.2, null, 0.8, 0.8, 1.2, 1.2, null, -0.2, -0.2, 0.2, 0.2, null, -0.2, -0.2, 0.2, 0.2, null, -0.2, -0.2, 0.2, 0.2]}, {\"fill\": \"toself\", \"fillcolor\": \"rgb(46, 137, 205)\", \"hoverinfo\": \"name\", \"legendgroup\": \"rgb(46, 137, 205)\", \"mode\": \"none\", \"name\": \"Job_0\", \"type\": \"scatter\", \"x\": [\"2020-01-09 09:00:00\", \"2020-01-13 13:00:00\", \"2020-01-13 13:00:00\", \"2020-01-09 09:00:00\", \"2020-01-09 09:00:00\", \"2020-01-22 00:00:00\", \"2020-01-26 04:00:00\", \"2020-01-26 04:00:00\", \"2020-01-22 00:00:00\", \"2020-01-22 00:00:00\", \"2020-01-30 08:00:00\", \"2020-02-03 12:00:00\", \"2020-02-03 12:00:00\", \"2020-01-30 08:00:00\", \"2020-01-30 08:00:00\", \"2020-01-14 17:00:00\", \"2020-01-18 21:00:00\", \"2020-01-18 21:00:00\", \"2020-01-14 17:00:00\", \"2020-01-14 17:00:00\", \"2020-01-01 03:00:00\", \"2020-01-01 06:00:00\", \"2020-01-01 06:00:00\", \"2020-01-01 03:00:00\", \"2020-01-01 03:00:00\", \"2020-01-05 18:00:00\", \"2020-01-05 21:00:00\", \"2020-01-05 21:00:00\", \"2020-01-05 18:00:00\", \"2020-01-05 18:00:00\", \"2020-01-10 06:00:00\", \"2020-01-14 10:00:00\", \"2020-01-14 10:00:00\", \"2020-01-10 06:00:00\"], \"y\": [1.8, 1.8, 2.2, 2.2, null, 1.8, 1.8, 2.2, 2.2, null, 1.8, 1.8, 2.2, 2.2, null, 0.8, 0.8, 1.2, 1.2, null, -0.2, -0.2, 0.2, 0.2, null, -0.2, -0.2, 0.2, 0.2, null, -0.2, -0.2, 0.2, 0.2]}, {\"fill\": \"toself\", \"fillcolor\": \"rgb(58, 149, 136)\", \"hoverinfo\": \"name\", \"legendgroup\": \"rgb(58, 149, 136)\", \"mode\": \"none\", \"name\": \"Job_3\", \"type\": \"scatter\", \"x\": [\"2020-01-13 13:00:00\", \"2020-01-13 16:00:00\", \"2020-01-13 16:00:00\", \"2020-01-13 13:00:00\", \"2020-01-13 13:00:00\", \"2020-01-05 13:00:00\", \"2020-01-05 16:00:00\", \"2020-01-05 16:00:00\", \"2020-01-05 13:00:00\", \"2020-01-05 13:00:00\", \"2020-01-05 10:00:00\", \"2020-01-05 16:00:00\", \"2020-01-05 16:00:00\", \"2020-01-05 10:00:00\", \"2020-01-05 10:00:00\", \"2020-01-10 01:00:00\", \"2020-01-10 04:00:00\", \"2020-01-10 04:00:00\", \"2020-01-10 01:00:00\"], \"y\": [1.8, 1.8, 2.2, 2.2, null, 0.8, 0.8, 1.2, 1.2, null, -0.2, -0.2, 0.2, 0.2, null, -0.2, -0.2, 0.2, 0.2]}, {\"legendgroup\": \"rgb(107, 127, 135)\", \"marker\": {\"color\": \"rgb(107, 127, 135)\", \"opacity\": 0, \"size\": 1}, \"mode\": \"markers\", \"name\": \"\", \"showlegend\": false, \"text\": [null, null, null, null, null, null, null, null, null, null, null, null, null, null], \"type\": \"scatter\", \"x\": [\"2020-02-03 12:00:00\", \"2020-02-07 16:00:00\", \"2020-01-05 11:00:00\", \"2020-01-05 13:00:00\", \"2020-01-10 11:00:00\", \"2020-01-14 15:00:00\", \"2020-01-14 15:00:00\", \"2020-01-14 17:00:00\", \"2020-01-18 21:00:00\", \"2020-01-18 23:00:00\", \"2020-01-14 10:00:00\", \"2020-01-18 14:00:00\", \"2020-01-18 14:00:00\", \"2020-01-18 17:00:00\"], \"y\": [2, 2, 1, 1, 1, 1, 1, 1, 1, 1, 0, 0, 0, 0]}, {\"legendgroup\": \"rgb(114, 44, 121)\", \"marker\": {\"color\": \"rgb(114, 44, 121)\", \"opacity\": 0, \"size\": 1}, \"mode\": \"markers\", \"name\": \"\", \"showlegend\": false, \"text\": [null, null, null, null, null, null, null, null, null, null, null, null, null, null, null, null, null, null], \"type\": \"scatter\", \"x\": [\"2020-01-05 05:00:00\", \"2020-01-09 09:00:00\", \"2020-01-17 20:00:00\", \"2020-01-22 00:00:00\", \"2020-01-26 04:00:00\", \"2020-01-30 08:00:00\", \"2020-02-07 16:00:00\", \"2020-02-07 19:00:00\", \"2020-02-11 23:00:00\", \"2020-02-16 03:00:00\", \"2020-01-01 07:00:00\", \"2020-01-05 11:00:00\", \"2020-01-06 01:00:00\", \"2020-01-06 07:00:00\", \"2020-01-06 07:00:00\", \"2020-01-10 11:00:00\", \"2020-01-05 16:00:00\", \"2020-01-05 18:00:00\"], \"y\": [2, 2, 2, 2, 2, 2, 2, 2, 2, 2, 1, 1, 1, 1, 1, 1, 0, 0]}, {\"legendgroup\": \"rgb(198, 47, 105)\", \"marker\": {\"color\": \"rgb(198, 47, 105)\", \"opacity\": 0, \"size\": 1}, \"mode\": \"markers\", \"name\": \"\", \"showlegend\": false, \"text\": [null, null, null, null, null, null, null, null, null, null, null, null, null, null], \"type\": \"scatter\", \"x\": [\"2020-01-13 16:00:00\", \"2020-01-17 20:00:00\", \"2020-02-07 19:00:00\", \"2020-02-11 23:00:00\", \"2020-01-05 16:00:00\", \"2020-01-05 19:00:00\", \"2020-01-05 19:00:00\", \"2020-01-06 01:00:00\", \"2020-01-01 06:00:00\", \"2020-01-05 10:00:00\", \"2020-01-05 21:00:00\", \"2020-01-10 01:00:00\", \"2020-01-10 04:00:00\", \"2020-01-10 06:00:00\"], \"y\": [2, 2, 2, 2, 1, 1, 1, 1, 0, 0, 0, 0, 0, 0]}, {\"legendgroup\": \"rgb(46, 137, 205)\", \"marker\": {\"color\": \"rgb(46, 137, 205)\", \"opacity\": 0, \"size\": 1}, \"mode\": \"markers\", \"name\": \"\", \"showlegend\": false, \"text\": [null, null, null, null, null, null, null, null, null, null, null, null, null, null], \"type\": \"scatter\", \"x\": [\"2020-01-09 09:00:00\", \"2020-01-13 13:00:00\", \"2020-01-22 00:00:00\", \"2020-01-26 04:00:00\", \"2020-01-30 08:00:00\", \"2020-02-03 12:00:00\", \"2020-01-14 17:00:00\", \"2020-01-18 21:00:00\", \"2020-01-01 03:00:00\", \"2020-01-01 06:00:00\", \"2020-01-05 18:00:00\", \"2020-01-05 21:00:00\", \"2020-01-10 06:00:00\", \"2020-01-14 10:00:00\"], \"y\": [2, 2, 2, 2, 2, 2, 1, 1, 0, 0, 0, 0, 0, 0]}, {\"legendgroup\": \"rgb(58, 149, 136)\", \"marker\": {\"color\": \"rgb(58, 149, 136)\", \"opacity\": 0, \"size\": 1}, \"mode\": \"markers\", \"name\": \"\", \"showlegend\": false, \"text\": [null, null, null, null, null, null, null, null], \"type\": \"scatter\", \"x\": [\"2020-01-13 13:00:00\", \"2020-01-13 16:00:00\", \"2020-01-05 13:00:00\", \"2020-01-05 16:00:00\", \"2020-01-05 10:00:00\", \"2020-01-05 16:00:00\", \"2020-01-10 01:00:00\", \"2020-01-10 04:00:00\"], \"y\": [2, 2, 1, 1, 0, 0, 0, 0]}],\n",
       "                        {\"height\": 600, \"hovermode\": \"closest\", \"showlegend\": true, \"template\": {\"data\": {\"bar\": [{\"error_x\": {\"color\": \"#2a3f5f\"}, \"error_y\": {\"color\": \"#2a3f5f\"}, \"marker\": {\"line\": {\"color\": \"#E5ECF6\", \"width\": 0.5}}, \"type\": \"bar\"}], \"barpolar\": [{\"marker\": {\"line\": {\"color\": \"#E5ECF6\", \"width\": 0.5}}, \"type\": \"barpolar\"}], \"carpet\": [{\"aaxis\": {\"endlinecolor\": \"#2a3f5f\", \"gridcolor\": \"white\", \"linecolor\": \"white\", \"minorgridcolor\": \"white\", \"startlinecolor\": \"#2a3f5f\"}, \"baxis\": {\"endlinecolor\": \"#2a3f5f\", \"gridcolor\": \"white\", \"linecolor\": \"white\", \"minorgridcolor\": \"white\", \"startlinecolor\": \"#2a3f5f\"}, \"type\": \"carpet\"}], \"choropleth\": [{\"colorbar\": {\"outlinewidth\": 0, \"ticks\": \"\"}, \"type\": \"choropleth\"}], \"contour\": [{\"colorbar\": {\"outlinewidth\": 0, \"ticks\": \"\"}, \"colorscale\": [[0.0, \"#0d0887\"], [0.1111111111111111, \"#46039f\"], [0.2222222222222222, \"#7201a8\"], [0.3333333333333333, \"#9c179e\"], [0.4444444444444444, \"#bd3786\"], [0.5555555555555556, \"#d8576b\"], [0.6666666666666666, \"#ed7953\"], [0.7777777777777778, \"#fb9f3a\"], [0.8888888888888888, \"#fdca26\"], [1.0, \"#f0f921\"]], \"type\": \"contour\"}], \"contourcarpet\": [{\"colorbar\": {\"outlinewidth\": 0, \"ticks\": \"\"}, \"type\": \"contourcarpet\"}], \"heatmap\": [{\"colorbar\": {\"outlinewidth\": 0, \"ticks\": \"\"}, \"colorscale\": [[0.0, \"#0d0887\"], [0.1111111111111111, \"#46039f\"], [0.2222222222222222, \"#7201a8\"], [0.3333333333333333, \"#9c179e\"], [0.4444444444444444, \"#bd3786\"], [0.5555555555555556, \"#d8576b\"], [0.6666666666666666, \"#ed7953\"], [0.7777777777777778, \"#fb9f3a\"], [0.8888888888888888, \"#fdca26\"], [1.0, \"#f0f921\"]], \"type\": \"heatmap\"}], \"heatmapgl\": [{\"colorbar\": {\"outlinewidth\": 0, \"ticks\": \"\"}, \"colorscale\": [[0.0, \"#0d0887\"], [0.1111111111111111, \"#46039f\"], [0.2222222222222222, \"#7201a8\"], [0.3333333333333333, \"#9c179e\"], [0.4444444444444444, \"#bd3786\"], [0.5555555555555556, \"#d8576b\"], [0.6666666666666666, \"#ed7953\"], [0.7777777777777778, \"#fb9f3a\"], [0.8888888888888888, \"#fdca26\"], [1.0, \"#f0f921\"]], \"type\": \"heatmapgl\"}], \"histogram\": [{\"marker\": {\"colorbar\": {\"outlinewidth\": 0, \"ticks\": \"\"}}, \"type\": \"histogram\"}], \"histogram2d\": [{\"colorbar\": {\"outlinewidth\": 0, \"ticks\": \"\"}, \"colorscale\": [[0.0, \"#0d0887\"], [0.1111111111111111, \"#46039f\"], [0.2222222222222222, \"#7201a8\"], [0.3333333333333333, \"#9c179e\"], [0.4444444444444444, \"#bd3786\"], [0.5555555555555556, \"#d8576b\"], [0.6666666666666666, \"#ed7953\"], [0.7777777777777778, \"#fb9f3a\"], [0.8888888888888888, \"#fdca26\"], [1.0, \"#f0f921\"]], \"type\": \"histogram2d\"}], \"histogram2dcontour\": [{\"colorbar\": {\"outlinewidth\": 0, \"ticks\": \"\"}, \"colorscale\": [[0.0, \"#0d0887\"], [0.1111111111111111, \"#46039f\"], [0.2222222222222222, \"#7201a8\"], [0.3333333333333333, \"#9c179e\"], [0.4444444444444444, \"#bd3786\"], [0.5555555555555556, \"#d8576b\"], [0.6666666666666666, \"#ed7953\"], [0.7777777777777778, \"#fb9f3a\"], [0.8888888888888888, \"#fdca26\"], [1.0, \"#f0f921\"]], \"type\": \"histogram2dcontour\"}], \"mesh3d\": [{\"colorbar\": {\"outlinewidth\": 0, \"ticks\": \"\"}, \"type\": \"mesh3d\"}], \"parcoords\": [{\"line\": {\"colorbar\": {\"outlinewidth\": 0, \"ticks\": \"\"}}, \"type\": \"parcoords\"}], \"pie\": [{\"automargin\": true, \"type\": \"pie\"}], \"scatter\": [{\"marker\": {\"colorbar\": {\"outlinewidth\": 0, \"ticks\": \"\"}}, \"type\": \"scatter\"}], \"scatter3d\": [{\"line\": {\"colorbar\": {\"outlinewidth\": 0, \"ticks\": \"\"}}, \"marker\": {\"colorbar\": {\"outlinewidth\": 0, \"ticks\": \"\"}}, \"type\": \"scatter3d\"}], \"scattercarpet\": [{\"marker\": {\"colorbar\": {\"outlinewidth\": 0, \"ticks\": \"\"}}, \"type\": \"scattercarpet\"}], \"scattergeo\": [{\"marker\": {\"colorbar\": {\"outlinewidth\": 0, \"ticks\": \"\"}}, \"type\": \"scattergeo\"}], \"scattergl\": [{\"marker\": {\"colorbar\": {\"outlinewidth\": 0, \"ticks\": \"\"}}, \"type\": \"scattergl\"}], \"scattermapbox\": [{\"marker\": {\"colorbar\": {\"outlinewidth\": 0, \"ticks\": \"\"}}, \"type\": \"scattermapbox\"}], \"scatterpolar\": [{\"marker\": {\"colorbar\": {\"outlinewidth\": 0, \"ticks\": \"\"}}, \"type\": \"scatterpolar\"}], \"scatterpolargl\": [{\"marker\": {\"colorbar\": {\"outlinewidth\": 0, \"ticks\": \"\"}}, \"type\": \"scatterpolargl\"}], \"scatterternary\": [{\"marker\": {\"colorbar\": {\"outlinewidth\": 0, \"ticks\": \"\"}}, \"type\": \"scatterternary\"}], \"surface\": [{\"colorbar\": {\"outlinewidth\": 0, \"ticks\": \"\"}, \"colorscale\": [[0.0, \"#0d0887\"], [0.1111111111111111, \"#46039f\"], [0.2222222222222222, \"#7201a8\"], [0.3333333333333333, \"#9c179e\"], [0.4444444444444444, \"#bd3786\"], [0.5555555555555556, \"#d8576b\"], [0.6666666666666666, \"#ed7953\"], [0.7777777777777778, \"#fb9f3a\"], [0.8888888888888888, \"#fdca26\"], [1.0, \"#f0f921\"]], \"type\": \"surface\"}], \"table\": [{\"cells\": {\"fill\": {\"color\": \"#EBF0F8\"}, \"line\": {\"color\": \"white\"}}, \"header\": {\"fill\": {\"color\": \"#C8D4E3\"}, \"line\": {\"color\": \"white\"}}, \"type\": \"table\"}]}, \"layout\": {\"annotationdefaults\": {\"arrowcolor\": \"#2a3f5f\", \"arrowhead\": 0, \"arrowwidth\": 1}, \"coloraxis\": {\"colorbar\": {\"outlinewidth\": 0, \"ticks\": \"\"}}, \"colorscale\": {\"diverging\": [[0, \"#8e0152\"], [0.1, \"#c51b7d\"], [0.2, \"#de77ae\"], [0.3, \"#f1b6da\"], [0.4, \"#fde0ef\"], [0.5, \"#f7f7f7\"], [0.6, \"#e6f5d0\"], [0.7, \"#b8e186\"], [0.8, \"#7fbc41\"], [0.9, \"#4d9221\"], [1, \"#276419\"]], \"sequential\": [[0.0, \"#0d0887\"], [0.1111111111111111, \"#46039f\"], [0.2222222222222222, \"#7201a8\"], [0.3333333333333333, \"#9c179e\"], [0.4444444444444444, \"#bd3786\"], [0.5555555555555556, \"#d8576b\"], [0.6666666666666666, \"#ed7953\"], [0.7777777777777778, \"#fb9f3a\"], [0.8888888888888888, \"#fdca26\"], [1.0, \"#f0f921\"]], \"sequentialminus\": [[0.0, \"#0d0887\"], [0.1111111111111111, \"#46039f\"], [0.2222222222222222, \"#7201a8\"], [0.3333333333333333, \"#9c179e\"], [0.4444444444444444, \"#bd3786\"], [0.5555555555555556, \"#d8576b\"], [0.6666666666666666, \"#ed7953\"], [0.7777777777777778, \"#fb9f3a\"], [0.8888888888888888, \"#fdca26\"], [1.0, \"#f0f921\"]]}, \"colorway\": [\"#636efa\", \"#EF553B\", \"#00cc96\", \"#ab63fa\", \"#FFA15A\", \"#19d3f3\", \"#FF6692\", \"#B6E880\", \"#FF97FF\", \"#FECB52\"], \"font\": {\"color\": \"#2a3f5f\"}, \"geo\": {\"bgcolor\": \"white\", \"lakecolor\": \"white\", \"landcolor\": \"#E5ECF6\", \"showlakes\": true, \"showland\": true, \"subunitcolor\": \"white\"}, \"hoverlabel\": {\"align\": \"left\"}, \"hovermode\": \"closest\", \"mapbox\": {\"style\": \"light\"}, \"paper_bgcolor\": \"white\", \"plot_bgcolor\": \"#E5ECF6\", \"polar\": {\"angularaxis\": {\"gridcolor\": \"white\", \"linecolor\": \"white\", \"ticks\": \"\"}, \"bgcolor\": \"#E5ECF6\", \"radialaxis\": {\"gridcolor\": \"white\", \"linecolor\": \"white\", \"ticks\": \"\"}}, \"scene\": {\"xaxis\": {\"backgroundcolor\": \"#E5ECF6\", \"gridcolor\": \"white\", \"gridwidth\": 2, \"linecolor\": \"white\", \"showbackground\": true, \"ticks\": \"\", \"zerolinecolor\": \"white\"}, \"yaxis\": {\"backgroundcolor\": \"#E5ECF6\", \"gridcolor\": \"white\", \"gridwidth\": 2, \"linecolor\": \"white\", \"showbackground\": true, \"ticks\": \"\", \"zerolinecolor\": \"white\"}, \"zaxis\": {\"backgroundcolor\": \"#E5ECF6\", \"gridcolor\": \"white\", \"gridwidth\": 2, \"linecolor\": \"white\", \"showbackground\": true, \"ticks\": \"\", \"zerolinecolor\": \"white\"}}, \"shapedefaults\": {\"line\": {\"color\": \"#2a3f5f\"}}, \"ternary\": {\"aaxis\": {\"gridcolor\": \"white\", \"linecolor\": \"white\", \"ticks\": \"\"}, \"baxis\": {\"gridcolor\": \"white\", \"linecolor\": \"white\", \"ticks\": \"\"}, \"bgcolor\": \"#E5ECF6\", \"caxis\": {\"gridcolor\": \"white\", \"linecolor\": \"white\", \"ticks\": \"\"}}, \"title\": {\"x\": 0.05}, \"xaxis\": {\"automargin\": true, \"gridcolor\": \"white\", \"linecolor\": \"white\", \"ticks\": \"\", \"title\": {\"standoff\": 15}, \"zerolinecolor\": \"white\", \"zerolinewidth\": 2}, \"yaxis\": {\"automargin\": true, \"gridcolor\": \"white\", \"linecolor\": \"white\", \"ticks\": \"\", \"title\": {\"standoff\": 15}, \"zerolinecolor\": \"white\", \"zerolinewidth\": 2}}}, \"title\": {\"text\": \"Gantt Chart\"}, \"xaxis\": {\"rangeselector\": {\"buttons\": [{\"count\": 7, \"label\": \"1w\", \"step\": \"day\", \"stepmode\": \"backward\"}, {\"count\": 1, \"label\": \"1m\", \"step\": \"month\", \"stepmode\": \"backward\"}, {\"count\": 6, \"label\": \"6m\", \"step\": \"month\", \"stepmode\": \"backward\"}, {\"count\": 1, \"label\": \"YTD\", \"step\": \"year\", \"stepmode\": \"todate\"}, {\"count\": 1, \"label\": \"1y\", \"step\": \"year\", \"stepmode\": \"backward\"}, {\"step\": \"all\"}]}, \"showgrid\": false, \"type\": \"date\", \"zeroline\": false}, \"yaxis\": {\"autorange\": false, \"range\": [-1, 4], \"showgrid\": false, \"ticktext\": [\"Machine_2\", \"Machine_1\", \"Machine_0\"], \"tickvals\": [0, 1, 2], \"zeroline\": false}},\n",
       "                        {\"responsive\": true}\n",
       "                    ).then(function(){\n",
       "                            \n",
       "var gd = document.getElementById('48076df8-f82c-4969-b355-3ae8c123bec6');\n",
       "var x = new MutationObserver(function (mutations, observer) {{\n",
       "        var display = window.getComputedStyle(gd).display;\n",
       "        if (!display || display === 'none') {{\n",
       "            console.log([gd, 'removed!']);\n",
       "            Plotly.purge(gd);\n",
       "            observer.disconnect();\n",
       "        }}\n",
       "}});\n",
       "\n",
       "// Listen for the removal of the full notebook cells\n",
       "var notebookContainer = gd.closest('#notebook-container');\n",
       "if (notebookContainer) {{\n",
       "    x.observe(notebookContainer, {childList: true});\n",
       "}}\n",
       "\n",
       "// Listen for the clearing of the current output cell\n",
       "var outputEl = gd.closest('.output');\n",
       "if (outputEl) {{\n",
       "    x.observe(outputEl, {childList: true});\n",
       "}}\n",
       "\n",
       "                        })\n",
       "                };\n",
       "                });\n",
       "            </script>\n",
       "        </div>"
      ]
     },
     "metadata": {},
     "output_type": "display_data"
    }
   ],
   "source": [
    "get_plot(best)"
   ]
  },
  {
   "cell_type": "code",
   "execution_count": null,
   "metadata": {},
   "outputs": [],
   "source": [
    "# "
   ]
  }
 ],
 "metadata": {
  "kernelspec": {
   "display_name": "Python 3",
   "language": "python",
   "name": "python3"
  },
  "language_info": {
   "codemirror_mode": {
    "name": "ipython",
    "version": 3
   },
   "file_extension": ".py",
   "mimetype": "text/x-python",
   "name": "python",
   "nbconvert_exporter": "python",
   "pygments_lexer": "ipython3",
   "version": "3.7.3"
  }
 },
 "nbformat": 4,
 "nbformat_minor": 2
}
